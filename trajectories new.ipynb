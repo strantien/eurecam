{
 "cells": [
  {
   "cell_type": "code",
   "execution_count": 53,
   "metadata": {},
   "outputs": [],
   "source": [
    "import sys\n",
    "import numpy as np\n",
    "import pandas as pd\n",
    "import matplotlib\n",
    "import matplotlib.pyplot as plt\n",
    "import imageio"
   ]
  },
  {
   "cell_type": "code",
   "execution_count": 54,
   "metadata": {},
   "outputs": [],
   "source": [
    "from scipy.optimize import linprog\n"
   ]
  },
  {
   "cell_type": "code",
   "execution_count": 55,
   "metadata": {},
   "outputs": [],
   "source": [
    "dataset = \"001\"\n",
    "# dataset = \"002\"\n",
    "# dataset = \"003\"\n",
    "# dataset = \"004\"\n",
    "# dataset = \"005\"\n",
    "# dataset = \"006\"\n",
    "# dataset = \"007\"\n",
    "# dataset = \"008\"\n",
    "# dataset = \"009\"\n",
    "# dataset = \"010\""
   ]
  },
  {
   "cell_type": "code",
   "execution_count": 56,
   "metadata": {},
   "outputs": [],
   "source": [
    "detfile = \"data_detection/\" + dataset + \"/detection.txt\"\n",
    "imgdir  = \"data_detection/\" + dataset + \"/images/\""
   ]
  },
  {
   "cell_type": "code",
   "execution_count": 57,
   "metadata": {},
   "outputs": [],
   "source": [
    "file = open(detfile, \"r\")\n",
    "l0 = file.readline()\n",
    "l1 = file.readline()\n",
    "f,cx,cy = np.array(l1.split()).astype(int)\n",
    "file.close()"
   ]
  },
  {
   "cell_type": "code",
   "execution_count": 58,
   "metadata": {},
   "outputs": [],
   "source": [
    "detections = pd.read_csv(detfile,delimiter=\" \",skiprows=2)\n",
    "images = np.unique(detections[\"#image\"].values) #keep image indices because there are numbers missing between 4 and 167"
   ]
  },
  {
   "cell_type": "code",
   "execution_count": 59,
   "metadata": {},
   "outputs": [
    {
     "data": {
      "text/plain": [
       "array([  4,   5,   6,   7,   8,   9,  10,  11,  12,  13,  14,  15,  16,\n",
       "        17,  18,  19,  20,  21,  22,  23,  24,  25,  26,  27,  28,  29,\n",
       "        30,  31,  32,  33,  34,  36,  37,  38,  39,  40,  41,  42,  43,\n",
       "        44,  45,  46,  47,  48,  49,  50,  51,  52,  53,  54,  55,  56,\n",
       "        57,  58,  59,  60,  61,  62,  63,  64,  65,  66,  67,  68,  69,\n",
       "        71,  72,  74,  75,  76,  77,  78,  79,  82,  83,  84,  85,  86,\n",
       "        87,  88,  89,  90,  91,  92,  93,  94,  95,  96,  97,  98,  99,\n",
       "       100, 101, 102, 103, 104, 105, 106, 107, 108, 109, 110, 111, 112,\n",
       "       113, 114, 115, 116, 117, 118, 119, 120, 121, 122, 123, 124, 125,\n",
       "       126, 127, 128, 129, 130, 131, 132, 133, 134, 135, 136, 137, 138,\n",
       "       139, 140, 141, 142, 143, 144, 145, 146, 147, 148, 149, 150, 151,\n",
       "       153, 155, 156, 157, 158, 159, 160, 161, 162, 163, 164, 165, 166,\n",
       "       167], dtype=int64)"
      ]
     },
     "execution_count": 59,
     "metadata": {},
     "output_type": "execute_result"
    }
   ],
   "source": [
    "images"
   ]
  },
  {
   "cell_type": "code",
   "execution_count": 60,
   "metadata": {},
   "outputs": [
    {
     "data": {
      "text/plain": [
       "157"
      ]
     },
     "execution_count": 60,
     "metadata": {},
     "output_type": "execute_result"
    }
   ],
   "source": [
    "images.size"
   ]
  },
  {
   "cell_type": "code",
   "execution_count": 61,
   "metadata": {},
   "outputs": [],
   "source": [
    "counter=[]"
   ]
  },
  {
   "cell_type": "code",
   "execution_count": 62,
   "metadata": {},
   "outputs": [],
   "source": [
    "for i in images:\n",
    "    df=detections[detections['#image']==i]\n",
    "    n=df.shape[0]\n",
    "    counter.append(n)"
   ]
  },
  {
   "cell_type": "code",
   "execution_count": 63,
   "metadata": {},
   "outputs": [
    {
     "data": {
      "text/plain": [
       "[5,\n",
       " 5,\n",
       " 7,\n",
       " 4,\n",
       " 5,\n",
       " 5,\n",
       " 3,\n",
       " 5,\n",
       " 6,\n",
       " 6,\n",
       " 5,\n",
       " 4,\n",
       " 4,\n",
       " 6,\n",
       " 5,\n",
       " 8,\n",
       " 5,\n",
       " 5,\n",
       " 7,\n",
       " 5,\n",
       " 3,\n",
       " 5,\n",
       " 5,\n",
       " 5,\n",
       " 3,\n",
       " 5,\n",
       " 4,\n",
       " 3,\n",
       " 1,\n",
       " 1,\n",
       " 2,\n",
       " 3,\n",
       " 2,\n",
       " 4,\n",
       " 7,\n",
       " 13,\n",
       " 10,\n",
       " 4,\n",
       " 13,\n",
       " 6,\n",
       " 4,\n",
       " 11,\n",
       " 6,\n",
       " 7,\n",
       " 4,\n",
       " 2,\n",
       " 3,\n",
       " 1,\n",
       " 5,\n",
       " 5,\n",
       " 3,\n",
       " 4,\n",
       " 2,\n",
       " 2,\n",
       " 8,\n",
       " 5,\n",
       " 5,\n",
       " 9,\n",
       " 2,\n",
       " 3,\n",
       " 2,\n",
       " 5,\n",
       " 7,\n",
       " 8,\n",
       " 2,\n",
       " 3,\n",
       " 7,\n",
       " 3,\n",
       " 4,\n",
       " 1,\n",
       " 1,\n",
       " 3,\n",
       " 1,\n",
       " 3,\n",
       " 3,\n",
       " 6,\n",
       " 2,\n",
       " 2,\n",
       " 1,\n",
       " 5,\n",
       " 1,\n",
       " 2,\n",
       " 3,\n",
       " 3,\n",
       " 2,\n",
       " 5,\n",
       " 7,\n",
       " 4,\n",
       " 5,\n",
       " 5,\n",
       " 4,\n",
       " 7,\n",
       " 6,\n",
       " 3,\n",
       " 4,\n",
       " 9,\n",
       " 3,\n",
       " 10,\n",
       " 11,\n",
       " 1,\n",
       " 5,\n",
       " 5,\n",
       " 3,\n",
       " 9,\n",
       " 8,\n",
       " 12,\n",
       " 9,\n",
       " 10,\n",
       " 10,\n",
       " 14,\n",
       " 15,\n",
       " 21,\n",
       " 18,\n",
       " 14,\n",
       " 15,\n",
       " 10,\n",
       " 13,\n",
       " 11,\n",
       " 12,\n",
       " 16,\n",
       " 13,\n",
       " 6,\n",
       " 7,\n",
       " 9,\n",
       " 8,\n",
       " 16,\n",
       " 15,\n",
       " 6,\n",
       " 13,\n",
       " 12,\n",
       " 5,\n",
       " 4,\n",
       " 5,\n",
       " 3,\n",
       " 9,\n",
       " 9,\n",
       " 10,\n",
       " 3,\n",
       " 15,\n",
       " 1,\n",
       " 7,\n",
       " 8,\n",
       " 3,\n",
       " 3,\n",
       " 6,\n",
       " 2,\n",
       " 6,\n",
       " 3,\n",
       " 16,\n",
       " 1,\n",
       " 3,\n",
       " 10,\n",
       " 6,\n",
       " 1,\n",
       " 6,\n",
       " 10,\n",
       " 7]"
      ]
     },
     "execution_count": 63,
     "metadata": {},
     "output_type": "execute_result"
    }
   ],
   "source": [
    "counter"
   ]
  },
  {
   "cell_type": "code",
   "execution_count": 64,
   "metadata": {},
   "outputs": [
    {
     "data": {
      "text/plain": [
       "21"
      ]
     },
     "execution_count": 64,
     "metadata": {},
     "output_type": "execute_result"
    }
   ],
   "source": [
    "M=max(counter)\n",
    "M #the maximum number of points in an image"
   ]
  },
  {
   "cell_type": "code",
   "execution_count": 91,
   "metadata": {},
   "outputs": [],
   "source": [
    "def distance(u,v):\n",
    "    return(np.linalg.norm(u[1:2]-v[1:2]) + np.linalg.norm(u[-1]-v[-1]))"
   ]
  },
  {
   "cell_type": "code",
   "execution_count": 92,
   "metadata": {},
   "outputs": [],
   "source": [
    "method = 'revised simplex'\n",
    "\n",
    "def computeTransport(X, Y):\n",
    "\n",
    "    nbPtsNuage1 = X.shape[0]\n",
    "    nbPtsNuage2 = Y.shape[0]\n",
    "    C = np.zeros([nbPtsNuage1, nbPtsNuage2])\n",
    "\n",
    "    for i in range(nbPtsNuage1):\n",
    "        for j in range(nbPtsNuage2):\n",
    "            C[i,j] = distance(X[i],Y[j])\n",
    "\n",
    "    c = np.ravel(C)\n",
    "    nbVariables = nbPtsNuage1*nbPtsNuage2\n",
    "    nbContraintes = nbPtsNuage2 + nbPtsNuage1\n",
    "\n",
    "    ##Cas 1 : autant de points dans les 2 nuages\n",
    "\n",
    "    if nbPtsNuage1 == nbPtsNuage2:\n",
    "        b_eq = np.ones(nbContraintes)\n",
    "\n",
    "        A_eq = np.zeros([nbContraintes,nbVariables])\n",
    "        #les premières lignes correspondent aux contraintes de sortie. c'est à dire pour\n",
    "        #chaque point du Nuage1, il faut le connecter à un seul point du nuage 2.\n",
    "        for i in range(nbPtsNuage1):\n",
    "            for j in range(nbPtsNuage2):\n",
    "                A_eq[i,i*nbPtsNuage2 +j] = 1\n",
    "        #les dernieres lignes correspondent aux contraintes d'entrée. Pour chaque point\n",
    "        #dans le nuage d'arrivée, il peut recevoir 1 seul nuage de sortie.\n",
    "        for i in range(nbPtsNuage2):\n",
    "            for j in range(nbPtsNuage1):\n",
    "                A_eq[i + nbPtsNuage1, i + j*nbPtsNuage2] = 1\n",
    "\n",
    "        P = linprog(c, A_eq = A_eq, b_eq = b_eq, bounds=(0,1), method=method)\n",
    "\n",
    "    ##Cas 2 : nbPtsNuage1 > nbPtsNuage2\n",
    "\n",
    "    elif nbPtsNuage1 > nbPtsNuage2:\n",
    "        b_eq = np.zeros(nbContraintes)\n",
    "        b_eq[nbPtsNuage1:] = np.ones(nbPtsNuage2)\n",
    "\n",
    "        b_ub = np.zeros(nbContraintes)\n",
    "        b_ub[:nbPtsNuage1] = np.ones(nbPtsNuage1)\n",
    "\n",
    "        A_eq = np.zeros([nbContraintes,nbVariables])\n",
    "        #les premieres lignes sont nulles ; les contraintes d'égalité sont :\n",
    "        #dans le nuage d'arrivée, un point doit recevoir pile 1 point de sortie.\n",
    "        for i in range(nbPtsNuage2):\n",
    "            for j in range(nbPtsNuage1):\n",
    "                A_eq[i + nbPtsNuage1, i + j*nbPtsNuage2] = 1\n",
    "\n",
    "        A_ub = np.zeros([nbContraintes,nbVariables])\n",
    "        #les contraintes d'inégalité sont les contrainte de sortie, cad pour\n",
    "        #chaque point du Nuage1, il faut le connecter à au plus 1 point du nuage 2.\n",
    "        for i in range(nbPtsNuage1):\n",
    "            for j in range(nbPtsNuage2):\n",
    "                A_ub[i,i*nbPtsNuage2 +j] = 1\n",
    "\n",
    "        P = linprog(c, A_ub = A_ub, b_ub = b_ub, A_eq = A_eq, b_eq = b_eq, bounds=(0,1), method=method)\n",
    "\n",
    "    ##Cas 3 : nbPtsNuage1 < nbPtsNuage2\n",
    "\n",
    "    else:\n",
    "        b_eq = np.zeros(nbContraintes)\n",
    "        b_eq[:nbPtsNuage1] = np.ones(nbPtsNuage1)\n",
    "\n",
    "        b_ub = np.zeros(nbContraintes)\n",
    "        b_ub[nbPtsNuage1:] = np.ones(nbPtsNuage2)\n",
    "\n",
    "        A_eq = np.zeros([nbContraintes,nbVariables])\n",
    "        #les dernières lignes sont nulles ; les contraintes d'égalité sont :\n",
    "        #chaque point du nuage de départ doit être connecté à exactement 1 point\n",
    "        #du nuage d'arrivée.\n",
    "        for i in range(nbPtsNuage1):\n",
    "            for j in range(nbPtsNuage2):\n",
    "                A_eq[i,i*nbPtsNuage2 +j] = 1\n",
    "\n",
    "        A_ub = np.zeros([nbContraintes,nbVariables])\n",
    "        #les contraintes d'inégalité sont les contrainte d'entrée, cad que\n",
    "        #chaque point du Nuage2 ne peut recevoir qu'au plus 1 point du nuage 2.\n",
    "        for i in range(nbPtsNuage2):\n",
    "            for j in range(nbPtsNuage1):\n",
    "                A_ub[i + nbPtsNuage1, i + j*nbPtsNuage2] = 1\n",
    "\n",
    "        P = linprog(c, A_ub = A_ub, b_ub = b_ub, A_eq = A_eq, b_eq = b_eq, bounds=(0,1), method=method)\n",
    "\n",
    "    ##Résultat : la matrice de connexion x\n",
    "\n",
    "    #on 'unravel' le résultat P.x, à la main :\n",
    "    x = np.array([P.x[k*nbPtsNuage2:(k+1)*nbPtsNuage2] for k in range(nbPtsNuage1)])\n",
    "    #x est la matrice de couplage, cad la matrice des pij\n",
    "    return(x)"
   ]
  },
  {
   "cell_type": "code",
   "execution_count": 93,
   "metadata": {},
   "outputs": [],
   "source": [
    "IndexImage1=(detections[\"#image\"]==images[0])\n",
    "X_im1 =  detections[IndexImage1][:].values #dataframe corresponding to image 1\n",
    "#trajet1=X_im1[:,1:3]   #points in first image initialize trajectory; Coordinates of a point in image1=A line in trajet\n",
    "trajet1=X_im1\n",
    "m=len(trajet1)"
   ]
  },
  {
   "cell_type": "code",
   "execution_count": 94,
   "metadata": {},
   "outputs": [
    {
     "data": {
      "text/plain": [
       "array([[  4, 151, -23, 179,   1],\n",
       "       [  4, 153,  25, 174,   2],\n",
       "       [  4, 158,  92, 174,   1],\n",
       "       [  4, 155,  86, 160,   1],\n",
       "       [  4, 158,  94, 174,   1]], dtype=int64)"
      ]
     },
     "execution_count": 94,
     "metadata": {},
     "output_type": "execute_result"
    }
   ],
   "source": [
    "trajet1"
   ]
  },
  {
   "cell_type": "code",
   "execution_count": 95,
   "metadata": {
    "scrolled": true
   },
   "outputs": [],
   "source": [
    "for i in range(m,M+1):\n",
    "    trajet1=np.append(trajet1,[[4,0,0,0,0]],0)\n",
    "    "
   ]
  },
  {
   "cell_type": "code",
   "execution_count": 159,
   "metadata": {},
   "outputs": [
    {
     "data": {
      "text/plain": [
       "array([[  4, 151, -23, 179,   1],\n",
       "       [  4, 153,  25, 174,   2],\n",
       "       [  4, 158,  92, 174,   1],\n",
       "       [  4, 155,  86, 160,   1],\n",
       "       [  4, 158,  94, 174,   1],\n",
       "       [  4,   0,   0,   0,   0],\n",
       "       [  4,   0,   0,   0,   0],\n",
       "       [  4,   0,   0,   0,   0],\n",
       "       [  4,   0,   0,   0,   0],\n",
       "       [  4,   0,   0,   0,   0],\n",
       "       [  4,   0,   0,   0,   0],\n",
       "       [  4,   0,   0,   0,   0],\n",
       "       [  4,   0,   0,   0,   0],\n",
       "       [  4,   0,   0,   0,   0],\n",
       "       [  4,   0,   0,   0,   0],\n",
       "       [  4,   0,   0,   0,   0],\n",
       "       [  4,   0,   0,   0,   0],\n",
       "       [  4,   0,   0,   0,   0],\n",
       "       [  4,   0,   0,   0,   0],\n",
       "       [  4,   0,   0,   0,   0],\n",
       "       [  4,   0,   0,   0,   0],\n",
       "       [  4,   0,   0,   0,   0]], dtype=int64)"
      ]
     },
     "execution_count": 159,
     "metadata": {},
     "output_type": "execute_result"
    }
   ],
   "source": [
    "trajet1"
   ]
  },
  {
   "cell_type": "code",
   "execution_count": 160,
   "metadata": {},
   "outputs": [],
   "source": [
    "d=np.array([traj[0:5] for traj in trajet1])"
   ]
  },
  {
   "cell_type": "code",
   "execution_count": 161,
   "metadata": {},
   "outputs": [
    {
     "data": {
      "text/plain": [
       "22"
      ]
     },
     "execution_count": 161,
     "metadata": {},
     "output_type": "execute_result"
    }
   ],
   "source": [
    "len(d)"
   ]
  },
  {
   "cell_type": "code",
   "execution_count": 162,
   "metadata": {},
   "outputs": [],
   "source": [
    "ttt=[]"
   ]
  },
  {
   "cell_type": "code",
   "execution_count": 163,
   "metadata": {},
   "outputs": [
    {
     "data": {
      "text/plain": [
       "array([[  4, 151, -23, 179,   1],\n",
       "       [  4, 153,  25, 174,   2],\n",
       "       [  4, 158,  92, 174,   1],\n",
       "       [  4, 155,  86, 160,   1],\n",
       "       [  4, 158,  94, 174,   1],\n",
       "       [  4,   0,   0,   0,   0],\n",
       "       [  4,   0,   0,   0,   0],\n",
       "       [  4,   0,   0,   0,   0],\n",
       "       [  4,   0,   0,   0,   0],\n",
       "       [  4,   0,   0,   0,   0],\n",
       "       [  4,   0,   0,   0,   0],\n",
       "       [  4,   0,   0,   0,   0],\n",
       "       [  4,   0,   0,   0,   0],\n",
       "       [  4,   0,   0,   0,   0],\n",
       "       [  4,   0,   0,   0,   0],\n",
       "       [  4,   0,   0,   0,   0],\n",
       "       [  4,   0,   0,   0,   0],\n",
       "       [  4,   0,   0,   0,   0],\n",
       "       [  4,   0,   0,   0,   0],\n",
       "       [  4,   0,   0,   0,   0],\n",
       "       [  4,   0,   0,   0,   0],\n",
       "       [  4,   0,   0,   0,   0]], dtype=int64)"
      ]
     },
     "execution_count": 163,
     "metadata": {},
     "output_type": "execute_result"
    }
   ],
   "source": [
    "d"
   ]
  },
  {
   "cell_type": "code",
   "execution_count": 164,
   "metadata": {},
   "outputs": [
    {
     "data": {
      "text/plain": [
       "[[4, 151, -23, 179, 1],\n",
       " [4, 153, 25, 174, 2],\n",
       " [4, 158, 92, 174, 1],\n",
       " [4, 155, 86, 160, 1],\n",
       " [4, 158, 94, 174, 1],\n",
       " [4, 0, 0, 0, 0],\n",
       " [4, 0, 0, 0, 0],\n",
       " [4, 0, 0, 0, 0],\n",
       " [4, 0, 0, 0, 0],\n",
       " [4, 0, 0, 0, 0],\n",
       " [4, 0, 0, 0, 0],\n",
       " [4, 0, 0, 0, 0],\n",
       " [4, 0, 0, 0, 0],\n",
       " [4, 0, 0, 0, 0],\n",
       " [4, 0, 0, 0, 0],\n",
       " [4, 0, 0, 0, 0],\n",
       " [4, 0, 0, 0, 0],\n",
       " [4, 0, 0, 0, 0],\n",
       " [4, 0, 0, 0, 0],\n",
       " [4, 0, 0, 0, 0],\n",
       " [4, 0, 0, 0, 0],\n",
       " [4, 0, 0, 0, 0]]"
      ]
     },
     "execution_count": 164,
     "metadata": {},
     "output_type": "execute_result"
    }
   ],
   "source": [
    "d.tolist()"
   ]
  },
  {
   "cell_type": "code",
   "execution_count": 165,
   "metadata": {},
   "outputs": [
    {
     "data": {
      "text/plain": [
       "22"
      ]
     },
     "execution_count": 165,
     "metadata": {},
     "output_type": "execute_result"
    }
   ],
   "source": [
    "len(d)"
   ]
  },
  {
   "cell_type": "code",
   "execution_count": 166,
   "metadata": {},
   "outputs": [],
   "source": [
    "for i in range(len(d)):\n",
    "    if d[i,-1] !=0:\n",
    "        ttt.append(d[i,0:5])"
   ]
  },
  {
   "cell_type": "code",
   "execution_count": 167,
   "metadata": {},
   "outputs": [],
   "source": [
    "ttt=np.array(ttt)"
   ]
  },
  {
   "cell_type": "code",
   "execution_count": 168,
   "metadata": {},
   "outputs": [
    {
     "data": {
      "text/plain": [
       "array([[  4, 151, -23, 179,   1],\n",
       "       [  4, 153,  25, 174,   2],\n",
       "       [  4, 158,  92, 174,   1],\n",
       "       [  4, 155,  86, 160,   1],\n",
       "       [  4, 158,  94, 174,   1]], dtype=int64)"
      ]
     },
     "execution_count": 168,
     "metadata": {},
     "output_type": "execute_result"
    }
   ],
   "source": [
    "ttt"
   ]
  },
  {
   "cell_type": "code",
   "execution_count": 177,
   "metadata": {},
   "outputs": [],
   "source": [
    "# first function of trajectories when P is constructed only with equalities\n",
    "def trajectory(trajet,Y):\n",
    "    #from trajet until now, we will construct the X to put in f=computeTransport, \n",
    "    #otherwise, if we let f treat initial dataframes it will not take into consideration the rearrangements done in previous steps while construction trajectories\n",
    "    d=np.array([traj[0:5] for traj in trajet1])\n",
    "    d.tolist()\n",
    "    ttt=[]\n",
    "    for i in range(len(d)):\n",
    "        if d[i,-1] !=0:\n",
    "            ttt.append(d[i,0:5])\n",
    "    X=np.array(ttt)       \n",
    "    P=computeTransport(X, Y)\n",
    "    nbPtsX = X.shape[0]\n",
    "    nbPtsY = Y.shape[0]\n",
    "    tr=np.array(trajet)\n",
    "    newV=np.zeros((nbPtsX,5))\n",
    "    #dim=tr.shape #dimensions of trajet i.e if there are m points in an image, dim=(m,2)! m=nbPtsX\n",
    "    if nbPtsX==nbPtsY:        \n",
    "        for i in range(nbPtsX):\n",
    "            for j in range(nbPtsY):\n",
    "                if P[i,j]==1:\n",
    "                    newV[i,:]=Y[j,0:5]          \n",
    "    elif nbPtsX > nbPtsY:\n",
    "        for i in range(nbPtsX):\n",
    "            for j in range(nbPtsY):\n",
    "                if P[i,j]==1:\n",
    "                    newV[i,:]=Y[j,0:5]\n",
    "            if (all(P[i,j] == 0 for j in range(nbPtsY))):  \n",
    "                newV[i,:]=X[i,0:5]\n",
    "    else:\n",
    "        Matchedpoints=[]\n",
    "        k=0\n",
    "        for i in range(nbPtsX):\n",
    "            for j in range(nbPtsY):\n",
    "                if P[i,j]==1:\n",
    "                    newV[i,:]=Y[j,0:5]\n",
    "                    k=j\n",
    "                    Matchedpoints.append(k)\n",
    "        for j in range(nbPtsY):\n",
    "            if j not in Matchedpoints:\n",
    "                newV=np.append(newV,Y[j,0:5])\n",
    "    m=len(newV)\n",
    "    for i in range(m,M+1):\n",
    "        newV=np.append(newV,[[0,0,0,0,0]],0)\n",
    "    res=np.append(tr,newV,1)    \n",
    "    trajet=res.tolist()\n",
    "    return(trajet) \n",
    "#initially trajet has one column. Each line is a point. After one iteration trajet has two columns. Point trajet[m,n] goes to trajet[m,n+1] in the trajectory path "
   ]
  },
  {
   "cell_type": "code",
   "execution_count": 178,
   "metadata": {},
   "outputs": [
    {
     "data": {
      "text/plain": [
       "array([[  4, 151, -23, 179,   1],\n",
       "       [  4, 153,  25, 174,   2],\n",
       "       [  4, 158,  92, 174,   1],\n",
       "       [  4, 155,  86, 160,   1],\n",
       "       [  4, 158,  94, 174,   1],\n",
       "       [  4,   0,   0,   0,   0],\n",
       "       [  4,   0,   0,   0,   0],\n",
       "       [  4,   0,   0,   0,   0],\n",
       "       [  4,   0,   0,   0,   0],\n",
       "       [  4,   0,   0,   0,   0],\n",
       "       [  4,   0,   0,   0,   0],\n",
       "       [  4,   0,   0,   0,   0],\n",
       "       [  4,   0,   0,   0,   0],\n",
       "       [  4,   0,   0,   0,   0],\n",
       "       [  4,   0,   0,   0,   0],\n",
       "       [  4,   0,   0,   0,   0],\n",
       "       [  4,   0,   0,   0,   0],\n",
       "       [  4,   0,   0,   0,   0],\n",
       "       [  4,   0,   0,   0,   0],\n",
       "       [  4,   0,   0,   0,   0],\n",
       "       [  4,   0,   0,   0,   0],\n",
       "       [  4,   0,   0,   0,   0]], dtype=int64)"
      ]
     },
     "execution_count": 178,
     "metadata": {},
     "output_type": "execute_result"
    }
   ],
   "source": [
    "trajet1"
   ]
  },
  {
   "cell_type": "code",
   "execution_count": 179,
   "metadata": {},
   "outputs": [
    {
     "name": "stderr",
     "output_type": "stream",
     "text": [
      "<ipython-input-92-7cf3c4bc9e1d>:34: OptimizeWarning: A_eq does not appear to be of full row rank. To improve performance, check the problem formulation for redundant equality constraints.\n",
      "  P = linprog(c, A_eq = A_eq, b_eq = b_eq, bounds=(0,1), method=method)\n"
     ]
    }
   ],
   "source": [
    "#first \n",
    "maskX=(detections[\"#image\"]==4)\n",
    "maskY = (detections[\"#image\"]==5)\n",
    "X1 =  detections[maskX][:].values #dataframe corresponding to image 4\n",
    "Y1 = detections[maskY][:].values #dataframe corresponding to image 5\n",
    "trajet=trajectory(trajet1,Y1)"
   ]
  },
  {
   "cell_type": "code",
   "execution_count": 180,
   "metadata": {},
   "outputs": [
    {
     "data": {
      "text/plain": [
       "[[4.0, 151.0, -23.0, 179.0, 1.0, 5.0, 154.0, -26.0, 183.0, 1.0],\n",
       " [4.0, 153.0, 25.0, 174.0, 2.0, 5.0, 153.0, 25.0, 174.0, 2.0],\n",
       " [4.0, 158.0, 92.0, 174.0, 1.0, 5.0, 158.0, 94.0, 174.0, 1.0],\n",
       " [4.0, 155.0, 86.0, 160.0, 1.0, 5.0, 155.0, 85.0, 160.0, 1.0],\n",
       " [4.0, 158.0, 94.0, 174.0, 1.0, 5.0, 158.0, 92.0, 174.0, 1.0],\n",
       " [4.0, 0.0, 0.0, 0.0, 0.0, 0.0, 0.0, 0.0, 0.0, 0.0],\n",
       " [4.0, 0.0, 0.0, 0.0, 0.0, 0.0, 0.0, 0.0, 0.0, 0.0],\n",
       " [4.0, 0.0, 0.0, 0.0, 0.0, 0.0, 0.0, 0.0, 0.0, 0.0],\n",
       " [4.0, 0.0, 0.0, 0.0, 0.0, 0.0, 0.0, 0.0, 0.0, 0.0],\n",
       " [4.0, 0.0, 0.0, 0.0, 0.0, 0.0, 0.0, 0.0, 0.0, 0.0],\n",
       " [4.0, 0.0, 0.0, 0.0, 0.0, 0.0, 0.0, 0.0, 0.0, 0.0],\n",
       " [4.0, 0.0, 0.0, 0.0, 0.0, 0.0, 0.0, 0.0, 0.0, 0.0],\n",
       " [4.0, 0.0, 0.0, 0.0, 0.0, 0.0, 0.0, 0.0, 0.0, 0.0],\n",
       " [4.0, 0.0, 0.0, 0.0, 0.0, 0.0, 0.0, 0.0, 0.0, 0.0],\n",
       " [4.0, 0.0, 0.0, 0.0, 0.0, 0.0, 0.0, 0.0, 0.0, 0.0],\n",
       " [4.0, 0.0, 0.0, 0.0, 0.0, 0.0, 0.0, 0.0, 0.0, 0.0],\n",
       " [4.0, 0.0, 0.0, 0.0, 0.0, 0.0, 0.0, 0.0, 0.0, 0.0],\n",
       " [4.0, 0.0, 0.0, 0.0, 0.0, 0.0, 0.0, 0.0, 0.0, 0.0],\n",
       " [4.0, 0.0, 0.0, 0.0, 0.0, 0.0, 0.0, 0.0, 0.0, 0.0],\n",
       " [4.0, 0.0, 0.0, 0.0, 0.0, 0.0, 0.0, 0.0, 0.0, 0.0],\n",
       " [4.0, 0.0, 0.0, 0.0, 0.0, 0.0, 0.0, 0.0, 0.0, 0.0],\n",
       " [4.0, 0.0, 0.0, 0.0, 0.0, 0.0, 0.0, 0.0, 0.0, 0.0]]"
      ]
     },
     "execution_count": 180,
     "metadata": {},
     "output_type": "execute_result"
    }
   ],
   "source": [
    "trajet"
   ]
  },
  {
   "cell_type": "code",
   "execution_count": 181,
   "metadata": {},
   "outputs": [
    {
     "data": {
      "text/plain": [
       "array([[  5, 154, -26, 183,   1],\n",
       "       [  5, 153,  25, 174,   2],\n",
       "       [  5, 158,  92, 174,   1],\n",
       "       [  5, 155,  85, 160,   1],\n",
       "       [  5, 158,  94, 174,   1]], dtype=int64)"
      ]
     },
     "execution_count": 181,
     "metadata": {},
     "output_type": "execute_result"
    }
   ],
   "source": [
    "Y1"
   ]
  },
  {
   "cell_type": "code",
   "execution_count": 182,
   "metadata": {},
   "outputs": [
    {
     "data": {
      "text/plain": [
       "array([[  4, 151, -23, 179,   1],\n",
       "       [  4, 153,  25, 174,   2],\n",
       "       [  4, 158,  92, 174,   1],\n",
       "       [  4, 155,  86, 160,   1],\n",
       "       [  4, 158,  94, 174,   1]], dtype=int64)"
      ]
     },
     "execution_count": 182,
     "metadata": {},
     "output_type": "execute_result"
    }
   ],
   "source": [
    "X1"
   ]
  },
  {
   "cell_type": "code",
   "execution_count": 183,
   "metadata": {},
   "outputs": [
    {
     "name": "stderr",
     "output_type": "stream",
     "text": [
      "<ipython-input-92-7cf3c4bc9e1d>:34: OptimizeWarning: A_eq does not appear to be of full row rank. To improve performance, check the problem formulation for redundant equality constraints.\n",
      "  P = linprog(c, A_eq = A_eq, b_eq = b_eq, bounds=(0,1), method=method)\n"
     ]
    }
   ],
   "source": [
    "P=computeTransport(X1,Y1)"
   ]
  },
  {
   "cell_type": "code",
   "execution_count": 184,
   "metadata": {},
   "outputs": [
    {
     "data": {
      "text/plain": [
       "array([[1., 0., 0., 0., 0.],\n",
       "       [0., 1., 0., 0., 0.],\n",
       "       [0., 0., 0., 0., 1.],\n",
       "       [0., 0., 0., 1., 0.],\n",
       "       [0., 0., 1., 0., 0.]])"
      ]
     },
     "execution_count": 184,
     "metadata": {},
     "output_type": "execute_result"
    }
   ],
   "source": [
    "P"
   ]
  },
  {
   "cell_type": "code",
   "execution_count": 190,
   "metadata": {},
   "outputs": [],
   "source": [
    "maskX=(detections[\"#image\"]==5) #cause we want to start with image 5\n",
    "maskY = (detections[\"#image\"]==7)\n",
    "X =  detections[maskX][:].values #dataframe corresponding to image i\n",
    "Y = detections[maskY][:].values #dataframe corresponding to image i+1\n",
    "trajet=trajectory(trajet,Y)"
   ]
  },
  {
   "cell_type": "code",
   "execution_count": 191,
   "metadata": {},
   "outputs": [
    {
     "data": {
      "text/plain": [
       "[[4.0,\n",
       "  151.0,\n",
       "  -23.0,\n",
       "  179.0,\n",
       "  1.0,\n",
       "  5.0,\n",
       "  154.0,\n",
       "  -26.0,\n",
       "  183.0,\n",
       "  1.0,\n",
       "  4.0,\n",
       "  151.0,\n",
       "  -23.0,\n",
       "  179.0,\n",
       "  1.0,\n",
       "  4.0,\n",
       "  151.0,\n",
       "  -23.0,\n",
       "  179.0,\n",
       "  1.0,\n",
       "  4.0,\n",
       "  151.0,\n",
       "  -23.0,\n",
       "  179.0,\n",
       "  1.0],\n",
       " [4.0,\n",
       "  153.0,\n",
       "  25.0,\n",
       "  174.0,\n",
       "  2.0,\n",
       "  5.0,\n",
       "  153.0,\n",
       "  25.0,\n",
       "  174.0,\n",
       "  2.0,\n",
       "  7.0,\n",
       "  153.0,\n",
       "  26.0,\n",
       "  174.0,\n",
       "  1.0,\n",
       "  7.0,\n",
       "  153.0,\n",
       "  26.0,\n",
       "  174.0,\n",
       "  1.0,\n",
       "  7.0,\n",
       "  153.0,\n",
       "  26.0,\n",
       "  174.0,\n",
       "  1.0],\n",
       " [4.0,\n",
       "  158.0,\n",
       "  92.0,\n",
       "  174.0,\n",
       "  1.0,\n",
       "  5.0,\n",
       "  158.0,\n",
       "  94.0,\n",
       "  174.0,\n",
       "  1.0,\n",
       "  7.0,\n",
       "  158.0,\n",
       "  94.0,\n",
       "  174.0,\n",
       "  1.0,\n",
       "  7.0,\n",
       "  158.0,\n",
       "  94.0,\n",
       "  174.0,\n",
       "  1.0,\n",
       "  7.0,\n",
       "  158.0,\n",
       "  94.0,\n",
       "  174.0,\n",
       "  1.0],\n",
       " [4.0,\n",
       "  155.0,\n",
       "  86.0,\n",
       "  160.0,\n",
       "  1.0,\n",
       "  5.0,\n",
       "  155.0,\n",
       "  85.0,\n",
       "  160.0,\n",
       "  1.0,\n",
       "  7.0,\n",
       "  155.0,\n",
       "  86.0,\n",
       "  160.0,\n",
       "  1.0,\n",
       "  7.0,\n",
       "  155.0,\n",
       "  86.0,\n",
       "  160.0,\n",
       "  1.0,\n",
       "  7.0,\n",
       "  155.0,\n",
       "  86.0,\n",
       "  160.0,\n",
       "  1.0],\n",
       " [4.0,\n",
       "  158.0,\n",
       "  94.0,\n",
       "  174.0,\n",
       "  1.0,\n",
       "  5.0,\n",
       "  158.0,\n",
       "  92.0,\n",
       "  174.0,\n",
       "  1.0,\n",
       "  7.0,\n",
       "  158.0,\n",
       "  92.0,\n",
       "  174.0,\n",
       "  1.0,\n",
       "  7.0,\n",
       "  158.0,\n",
       "  92.0,\n",
       "  174.0,\n",
       "  1.0,\n",
       "  7.0,\n",
       "  158.0,\n",
       "  92.0,\n",
       "  174.0,\n",
       "  1.0],\n",
       " [4.0,\n",
       "  0.0,\n",
       "  0.0,\n",
       "  0.0,\n",
       "  0.0,\n",
       "  0.0,\n",
       "  0.0,\n",
       "  0.0,\n",
       "  0.0,\n",
       "  0.0,\n",
       "  0.0,\n",
       "  0.0,\n",
       "  0.0,\n",
       "  0.0,\n",
       "  0.0,\n",
       "  0.0,\n",
       "  0.0,\n",
       "  0.0,\n",
       "  0.0,\n",
       "  0.0,\n",
       "  0.0,\n",
       "  0.0,\n",
       "  0.0,\n",
       "  0.0,\n",
       "  0.0],\n",
       " [4.0,\n",
       "  0.0,\n",
       "  0.0,\n",
       "  0.0,\n",
       "  0.0,\n",
       "  0.0,\n",
       "  0.0,\n",
       "  0.0,\n",
       "  0.0,\n",
       "  0.0,\n",
       "  0.0,\n",
       "  0.0,\n",
       "  0.0,\n",
       "  0.0,\n",
       "  0.0,\n",
       "  0.0,\n",
       "  0.0,\n",
       "  0.0,\n",
       "  0.0,\n",
       "  0.0,\n",
       "  0.0,\n",
       "  0.0,\n",
       "  0.0,\n",
       "  0.0,\n",
       "  0.0],\n",
       " [4.0,\n",
       "  0.0,\n",
       "  0.0,\n",
       "  0.0,\n",
       "  0.0,\n",
       "  0.0,\n",
       "  0.0,\n",
       "  0.0,\n",
       "  0.0,\n",
       "  0.0,\n",
       "  0.0,\n",
       "  0.0,\n",
       "  0.0,\n",
       "  0.0,\n",
       "  0.0,\n",
       "  0.0,\n",
       "  0.0,\n",
       "  0.0,\n",
       "  0.0,\n",
       "  0.0,\n",
       "  0.0,\n",
       "  0.0,\n",
       "  0.0,\n",
       "  0.0,\n",
       "  0.0],\n",
       " [4.0,\n",
       "  0.0,\n",
       "  0.0,\n",
       "  0.0,\n",
       "  0.0,\n",
       "  0.0,\n",
       "  0.0,\n",
       "  0.0,\n",
       "  0.0,\n",
       "  0.0,\n",
       "  0.0,\n",
       "  0.0,\n",
       "  0.0,\n",
       "  0.0,\n",
       "  0.0,\n",
       "  0.0,\n",
       "  0.0,\n",
       "  0.0,\n",
       "  0.0,\n",
       "  0.0,\n",
       "  0.0,\n",
       "  0.0,\n",
       "  0.0,\n",
       "  0.0,\n",
       "  0.0],\n",
       " [4.0,\n",
       "  0.0,\n",
       "  0.0,\n",
       "  0.0,\n",
       "  0.0,\n",
       "  0.0,\n",
       "  0.0,\n",
       "  0.0,\n",
       "  0.0,\n",
       "  0.0,\n",
       "  0.0,\n",
       "  0.0,\n",
       "  0.0,\n",
       "  0.0,\n",
       "  0.0,\n",
       "  0.0,\n",
       "  0.0,\n",
       "  0.0,\n",
       "  0.0,\n",
       "  0.0,\n",
       "  0.0,\n",
       "  0.0,\n",
       "  0.0,\n",
       "  0.0,\n",
       "  0.0],\n",
       " [4.0,\n",
       "  0.0,\n",
       "  0.0,\n",
       "  0.0,\n",
       "  0.0,\n",
       "  0.0,\n",
       "  0.0,\n",
       "  0.0,\n",
       "  0.0,\n",
       "  0.0,\n",
       "  0.0,\n",
       "  0.0,\n",
       "  0.0,\n",
       "  0.0,\n",
       "  0.0,\n",
       "  0.0,\n",
       "  0.0,\n",
       "  0.0,\n",
       "  0.0,\n",
       "  0.0,\n",
       "  0.0,\n",
       "  0.0,\n",
       "  0.0,\n",
       "  0.0,\n",
       "  0.0],\n",
       " [4.0,\n",
       "  0.0,\n",
       "  0.0,\n",
       "  0.0,\n",
       "  0.0,\n",
       "  0.0,\n",
       "  0.0,\n",
       "  0.0,\n",
       "  0.0,\n",
       "  0.0,\n",
       "  0.0,\n",
       "  0.0,\n",
       "  0.0,\n",
       "  0.0,\n",
       "  0.0,\n",
       "  0.0,\n",
       "  0.0,\n",
       "  0.0,\n",
       "  0.0,\n",
       "  0.0,\n",
       "  0.0,\n",
       "  0.0,\n",
       "  0.0,\n",
       "  0.0,\n",
       "  0.0],\n",
       " [4.0,\n",
       "  0.0,\n",
       "  0.0,\n",
       "  0.0,\n",
       "  0.0,\n",
       "  0.0,\n",
       "  0.0,\n",
       "  0.0,\n",
       "  0.0,\n",
       "  0.0,\n",
       "  0.0,\n",
       "  0.0,\n",
       "  0.0,\n",
       "  0.0,\n",
       "  0.0,\n",
       "  0.0,\n",
       "  0.0,\n",
       "  0.0,\n",
       "  0.0,\n",
       "  0.0,\n",
       "  0.0,\n",
       "  0.0,\n",
       "  0.0,\n",
       "  0.0,\n",
       "  0.0],\n",
       " [4.0,\n",
       "  0.0,\n",
       "  0.0,\n",
       "  0.0,\n",
       "  0.0,\n",
       "  0.0,\n",
       "  0.0,\n",
       "  0.0,\n",
       "  0.0,\n",
       "  0.0,\n",
       "  0.0,\n",
       "  0.0,\n",
       "  0.0,\n",
       "  0.0,\n",
       "  0.0,\n",
       "  0.0,\n",
       "  0.0,\n",
       "  0.0,\n",
       "  0.0,\n",
       "  0.0,\n",
       "  0.0,\n",
       "  0.0,\n",
       "  0.0,\n",
       "  0.0,\n",
       "  0.0],\n",
       " [4.0,\n",
       "  0.0,\n",
       "  0.0,\n",
       "  0.0,\n",
       "  0.0,\n",
       "  0.0,\n",
       "  0.0,\n",
       "  0.0,\n",
       "  0.0,\n",
       "  0.0,\n",
       "  0.0,\n",
       "  0.0,\n",
       "  0.0,\n",
       "  0.0,\n",
       "  0.0,\n",
       "  0.0,\n",
       "  0.0,\n",
       "  0.0,\n",
       "  0.0,\n",
       "  0.0,\n",
       "  0.0,\n",
       "  0.0,\n",
       "  0.0,\n",
       "  0.0,\n",
       "  0.0],\n",
       " [4.0,\n",
       "  0.0,\n",
       "  0.0,\n",
       "  0.0,\n",
       "  0.0,\n",
       "  0.0,\n",
       "  0.0,\n",
       "  0.0,\n",
       "  0.0,\n",
       "  0.0,\n",
       "  0.0,\n",
       "  0.0,\n",
       "  0.0,\n",
       "  0.0,\n",
       "  0.0,\n",
       "  0.0,\n",
       "  0.0,\n",
       "  0.0,\n",
       "  0.0,\n",
       "  0.0,\n",
       "  0.0,\n",
       "  0.0,\n",
       "  0.0,\n",
       "  0.0,\n",
       "  0.0],\n",
       " [4.0,\n",
       "  0.0,\n",
       "  0.0,\n",
       "  0.0,\n",
       "  0.0,\n",
       "  0.0,\n",
       "  0.0,\n",
       "  0.0,\n",
       "  0.0,\n",
       "  0.0,\n",
       "  0.0,\n",
       "  0.0,\n",
       "  0.0,\n",
       "  0.0,\n",
       "  0.0,\n",
       "  0.0,\n",
       "  0.0,\n",
       "  0.0,\n",
       "  0.0,\n",
       "  0.0,\n",
       "  0.0,\n",
       "  0.0,\n",
       "  0.0,\n",
       "  0.0,\n",
       "  0.0],\n",
       " [4.0,\n",
       "  0.0,\n",
       "  0.0,\n",
       "  0.0,\n",
       "  0.0,\n",
       "  0.0,\n",
       "  0.0,\n",
       "  0.0,\n",
       "  0.0,\n",
       "  0.0,\n",
       "  0.0,\n",
       "  0.0,\n",
       "  0.0,\n",
       "  0.0,\n",
       "  0.0,\n",
       "  0.0,\n",
       "  0.0,\n",
       "  0.0,\n",
       "  0.0,\n",
       "  0.0,\n",
       "  0.0,\n",
       "  0.0,\n",
       "  0.0,\n",
       "  0.0,\n",
       "  0.0],\n",
       " [4.0,\n",
       "  0.0,\n",
       "  0.0,\n",
       "  0.0,\n",
       "  0.0,\n",
       "  0.0,\n",
       "  0.0,\n",
       "  0.0,\n",
       "  0.0,\n",
       "  0.0,\n",
       "  0.0,\n",
       "  0.0,\n",
       "  0.0,\n",
       "  0.0,\n",
       "  0.0,\n",
       "  0.0,\n",
       "  0.0,\n",
       "  0.0,\n",
       "  0.0,\n",
       "  0.0,\n",
       "  0.0,\n",
       "  0.0,\n",
       "  0.0,\n",
       "  0.0,\n",
       "  0.0],\n",
       " [4.0,\n",
       "  0.0,\n",
       "  0.0,\n",
       "  0.0,\n",
       "  0.0,\n",
       "  0.0,\n",
       "  0.0,\n",
       "  0.0,\n",
       "  0.0,\n",
       "  0.0,\n",
       "  0.0,\n",
       "  0.0,\n",
       "  0.0,\n",
       "  0.0,\n",
       "  0.0,\n",
       "  0.0,\n",
       "  0.0,\n",
       "  0.0,\n",
       "  0.0,\n",
       "  0.0,\n",
       "  0.0,\n",
       "  0.0,\n",
       "  0.0,\n",
       "  0.0,\n",
       "  0.0],\n",
       " [4.0,\n",
       "  0.0,\n",
       "  0.0,\n",
       "  0.0,\n",
       "  0.0,\n",
       "  0.0,\n",
       "  0.0,\n",
       "  0.0,\n",
       "  0.0,\n",
       "  0.0,\n",
       "  0.0,\n",
       "  0.0,\n",
       "  0.0,\n",
       "  0.0,\n",
       "  0.0,\n",
       "  0.0,\n",
       "  0.0,\n",
       "  0.0,\n",
       "  0.0,\n",
       "  0.0,\n",
       "  0.0,\n",
       "  0.0,\n",
       "  0.0,\n",
       "  0.0,\n",
       "  0.0],\n",
       " [4.0,\n",
       "  0.0,\n",
       "  0.0,\n",
       "  0.0,\n",
       "  0.0,\n",
       "  0.0,\n",
       "  0.0,\n",
       "  0.0,\n",
       "  0.0,\n",
       "  0.0,\n",
       "  0.0,\n",
       "  0.0,\n",
       "  0.0,\n",
       "  0.0,\n",
       "  0.0,\n",
       "  0.0,\n",
       "  0.0,\n",
       "  0.0,\n",
       "  0.0,\n",
       "  0.0,\n",
       "  0.0,\n",
       "  0.0,\n",
       "  0.0,\n",
       "  0.0,\n",
       "  0.0]]"
      ]
     },
     "execution_count": 191,
     "metadata": {},
     "output_type": "execute_result"
    }
   ],
   "source": [
    "trajet"
   ]
  },
  {
   "cell_type": "code",
   "execution_count": 108,
   "metadata": {},
   "outputs": [
    {
     "data": {
      "text/plain": [
       "array([[  5, 154, -26, 183,   1],\n",
       "       [  5, 153,  25, 174,   2],\n",
       "       [  5, 158,  92, 174,   1],\n",
       "       [  5, 155,  85, 160,   1],\n",
       "       [  5, 158,  94, 174,   1]], dtype=int64)"
      ]
     },
     "execution_count": 108,
     "metadata": {},
     "output_type": "execute_result"
    }
   ],
   "source": [
    "X"
   ]
  },
  {
   "cell_type": "code",
   "execution_count": 109,
   "metadata": {},
   "outputs": [
    {
     "data": {
      "text/plain": [
       "array([[  7, 153,  26, 174,   1],\n",
       "       [  7, 158,  92, 174,   1],\n",
       "       [  7, 155,  86, 160,   1],\n",
       "       [  7, 158,  94, 174,   1]], dtype=int64)"
      ]
     },
     "execution_count": 109,
     "metadata": {},
     "output_type": "execute_result"
    }
   ],
   "source": [
    "Y"
   ]
  },
  {
   "cell_type": "code",
   "execution_count": 110,
   "metadata": {},
   "outputs": [],
   "source": [
    "P=computeTransport(X, Y)"
   ]
  },
  {
   "cell_type": "code",
   "execution_count": 111,
   "metadata": {},
   "outputs": [
    {
     "data": {
      "text/plain": [
       "array([[0., 0., 0., 0.],\n",
       "       [1., 0., 0., 0.],\n",
       "       [0., 0., 0., 1.],\n",
       "       [0., 0., 1., 0.],\n",
       "       [0., 1., 0., 0.]])"
      ]
     },
     "execution_count": 111,
     "metadata": {},
     "output_type": "execute_result"
    }
   ],
   "source": [
    "P"
   ]
  },
  {
   "cell_type": "code",
   "execution_count": 61,
   "metadata": {},
   "outputs": [
    {
     "name": "stdout",
     "output_type": "stream",
     "text": [
      "0\n"
     ]
    }
   ],
   "source": [
    "for i in range(5):\n",
    "    if (all(P[i,j] == 0 for j in range(4))):\n",
    "        print(i)"
   ]
  },
  {
   "cell_type": "code",
   "execution_count": 114,
   "metadata": {},
   "outputs": [],
   "source": [
    "nbPtsX = X.shape[0]\n",
    "nbPtsY = Y.shape[0]\n",
    "newV=np.zeros((nbPtsX,2))\n"
   ]
  },
  {
   "cell_type": "code",
   "execution_count": 117,
   "metadata": {},
   "outputs": [],
   "source": [
    "for i in range(nbPtsX):\n",
    "    for j in range(nbPtsY):\n",
    "        if P[i,j]==1:\n",
    "            newV[i,:]=Y[j,1:3]\n",
    "    if (all(P[i,j] == 0 for j in range(nbPtsY))):  \n",
    "                newV[i,:]=X[i,1:3]"
   ]
  },
  {
   "cell_type": "code",
   "execution_count": 118,
   "metadata": {},
   "outputs": [
    {
     "data": {
      "text/plain": [
       "array([[154., -26.],\n",
       "       [153.,  26.],\n",
       "       [158.,  94.],\n",
       "       [155.,  86.],\n",
       "       [158.,  92.]])"
      ]
     },
     "execution_count": 118,
     "metadata": {},
     "output_type": "execute_result"
    }
   ],
   "source": [
    "newV"
   ]
  },
  {
   "cell_type": "code",
   "execution_count": null,
   "metadata": {},
   "outputs": [],
   "source": []
  }
 ],
 "metadata": {
  "kernelspec": {
   "display_name": "Python 3",
   "language": "python",
   "name": "python3"
  },
  "language_info": {
   "codemirror_mode": {
    "name": "ipython",
    "version": 3
   },
   "file_extension": ".py",
   "mimetype": "text/x-python",
   "name": "python",
   "nbconvert_exporter": "python",
   "pygments_lexer": "ipython3",
   "version": "3.8.3"
  }
 },
 "nbformat": 4,
 "nbformat_minor": 4
}
